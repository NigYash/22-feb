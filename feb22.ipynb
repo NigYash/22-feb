{
 "cells": [
  {
   "attachments": {},
   "cell_type": "markdown",
   "metadata": {},
   "source": [
    "Q1- Create a Pandas Series that contains the following data: 4, 8, 15, 16, 23, and 42. Then, print the series.\n"
   ]
  },
  {
   "cell_type": "code",
   "execution_count": 2,
   "metadata": {},
   "outputs": [],
   "source": [
    "import pandas as pd"
   ]
  },
  {
   "cell_type": "code",
   "execution_count": 3,
   "metadata": {},
   "outputs": [],
   "source": [
    "data =[4,8,15,16,23,42]"
   ]
  },
  {
   "cell_type": "code",
   "execution_count": 4,
   "metadata": {},
   "outputs": [],
   "source": [
    "series = pd.Series(data)"
   ]
  },
  {
   "cell_type": "code",
   "execution_count": 5,
   "metadata": {},
   "outputs": [
    {
     "name": "stdout",
     "output_type": "stream",
     "text": [
      "0     4\n",
      "1     8\n",
      "2    15\n",
      "3    16\n",
      "4    23\n",
      "5    42\n",
      "dtype: int64\n"
     ]
    }
   ],
   "source": [
    "print(series)"
   ]
  },
  {
   "attachments": {},
   "cell_type": "markdown",
   "metadata": {},
   "source": [
    "Q2. Create a variable of list type containing 10 elements in it, and apply pandas.Series function on the\n",
    "variable print it."
   ]
  },
  {
   "cell_type": "code",
   "execution_count": 9,
   "metadata": {},
   "outputs": [],
   "source": [
    "data2 =([1,2,3,4,5,6,7,8,9,33])"
   ]
  },
  {
   "cell_type": "code",
   "execution_count": 11,
   "metadata": {},
   "outputs": [],
   "source": [
    "my_series = pd.Series(data2)"
   ]
  },
  {
   "cell_type": "code",
   "execution_count": 12,
   "metadata": {},
   "outputs": [
    {
     "name": "stdout",
     "output_type": "stream",
     "text": [
      "0     1\n",
      "1     2\n",
      "2     3\n",
      "3     4\n",
      "4     5\n",
      "5     6\n",
      "6     7\n",
      "7     8\n",
      "8     9\n",
      "9    33\n",
      "dtype: int64\n"
     ]
    }
   ],
   "source": [
    "print(my_series)"
   ]
  },
  {
   "attachments": {},
   "cell_type": "markdown",
   "metadata": {},
   "source": [
    "Q3. Create a Pandas DataFrame that contains the following data:"
   ]
  },
  {
   "cell_type": "code",
   "execution_count": 13,
   "metadata": {},
   "outputs": [],
   "source": [
    "df_data= {\"Name\": [ 'ALice', 'Bob', 'Claire'], \"Age\": [25,30,27], \"Gender\": ['Female','Male','Female']}"
   ]
  },
  {
   "cell_type": "code",
   "execution_count": 14,
   "metadata": {},
   "outputs": [
    {
     "data": {
      "text/html": [
       "<div>\n",
       "<style scoped>\n",
       "    .dataframe tbody tr th:only-of-type {\n",
       "        vertical-align: middle;\n",
       "    }\n",
       "\n",
       "    .dataframe tbody tr th {\n",
       "        vertical-align: top;\n",
       "    }\n",
       "\n",
       "    .dataframe thead th {\n",
       "        text-align: right;\n",
       "    }\n",
       "</style>\n",
       "<table border=\"1\" class=\"dataframe\">\n",
       "  <thead>\n",
       "    <tr style=\"text-align: right;\">\n",
       "      <th></th>\n",
       "      <th>Name</th>\n",
       "      <th>Age</th>\n",
       "      <th>Gender</th>\n",
       "    </tr>\n",
       "  </thead>\n",
       "  <tbody>\n",
       "    <tr>\n",
       "      <th>0</th>\n",
       "      <td>ALice</td>\n",
       "      <td>25</td>\n",
       "      <td>Female</td>\n",
       "    </tr>\n",
       "    <tr>\n",
       "      <th>1</th>\n",
       "      <td>Bob</td>\n",
       "      <td>30</td>\n",
       "      <td>Male</td>\n",
       "    </tr>\n",
       "    <tr>\n",
       "      <th>2</th>\n",
       "      <td>Claire</td>\n",
       "      <td>27</td>\n",
       "      <td>Female</td>\n",
       "    </tr>\n",
       "  </tbody>\n",
       "</table>\n",
       "</div>"
      ],
      "text/plain": [
       "     Name  Age  Gender\n",
       "0   ALice   25  Female\n",
       "1     Bob   30    Male\n",
       "2  Claire   27  Female"
      ]
     },
     "execution_count": 14,
     "metadata": {},
     "output_type": "execute_result"
    }
   ],
   "source": [
    "pd.DataFrame(df_data)"
   ]
  },
  {
   "cell_type": "markdown",
   "metadata": {},
   "source": [
    "Q4. What is ‘DataFrame’ in pandas and how is it different from pandas.series? Explain with an example."
   ]
  },
  {
   "attachments": {},
   "cell_type": "markdown",
   "metadata": {},
   "source": [
    "A4. A dataframe is a two dimensional labelled data structure in pandas, essentially a table with rows and columns, similar to a spreadsheet or a SQL table. It can be thought of as a collection of Pandas series, where each column represents a series.\n",
    "\n",
    "On the other hand, a Series is a one-dimensional labeled array that can hold any data type. It can be thought of as a column in a DataFrame, with a label(index) for each element."
   ]
  },
  {
   "cell_type": "code",
   "execution_count": 1,
   "metadata": {},
   "outputs": [
    {
     "name": "stdout",
     "output_type": "stream",
     "text": [
      "    Name  Age Gender\n",
      "0   John   24      M\n",
      "1   Jane   25      F\n",
      "2  Alice   22      F\n",
      "3    Bob   27      M\n",
      "0    24\n",
      "1    25\n",
      "2    22\n",
      "3    27\n",
      "Name: Age, dtype: int64\n"
     ]
    }
   ],
   "source": [
    "import pandas as pd\n",
    "\n",
    "# Creating a dictionary of data\n",
    "data = {'Name': ['John', 'Jane', 'Alice', 'Bob'],\n",
    "        'Age': [24, 25, 22, 27],\n",
    "        'Gender': ['M', 'F', 'F', 'M']}\n",
    "\n",
    "# Creating a DataFrame from the dictionary\n",
    "df = pd.DataFrame(data)\n",
    "\n",
    "# Creating a Series from the 'Age' column in the DataFrame\n",
    "age_series = df['Age']\n",
    "\n",
    "print(df)\n",
    "print(age_series)"
   ]
  },
  {
   "attachments": {},
   "cell_type": "markdown",
   "metadata": {},
   "source": [
    "Q5. What are some common functions you can use to manipulate data in a Pandas DataFrame? Can you give an example of when you might use one of these functions?"
   ]
  },
  {
   "attachments": {},
   "cell_type": "markdown",
   "metadata": {},
   "source": [
    "A5. Pandas provides a wide range of functions to manipulate data in a DataFrame. Some of the most commonly used functions are:\n",
    "\n",
    "head(): returns the first n rows of the DataFrame (default n=5).\n",
    "\n",
    "tail(): returns the last n rows of the DataFrame (default n=5).\n",
    "\n",
    "info(): provides information about the DataFrame such as data types, number of non-null values, and memory usage.\n",
    "\n",
    "describe(): provides summary statistics of the DataFrame such as count, mean, standard deviation, minimum and maximum values, and quartiles.\n",
    "\n",
    "drop(): removes rows or columns from the DataFrame based on specified labels or conditions."
   ]
  },
  {
   "attachments": {},
   "cell_type": "markdown",
   "metadata": {},
   "source": [
    "Q6. Which of the following is mutable in nature Series, DataFrame, Panel?"
   ]
  },
  {
   "attachments": {},
   "cell_type": "markdown",
   "metadata": {},
   "source": [
    "A6. In Pandas, both Series and DataFrame are mutable in nature. This means that you can modify their contents after they have been created.\n",
    "\n",
    "However, Panel is an immutable data structure in Pandas. This means that once a Panel has been created, its contents cannot be modified. Instead, you need to create a new Panel with the desired modifications. This is because Panel was deprecated in Pandas 1.0.0 and removed in version 1.3.0"
   ]
  },
  {
   "attachments": {},
   "cell_type": "markdown",
   "metadata": {},
   "source": [
    "Q7. Create a DataFrame using multiple Series. Explain with an example."
   ]
  },
  {
   "cell_type": "code",
   "execution_count": 2,
   "metadata": {},
   "outputs": [
    {
     "name": "stdout",
     "output_type": "stream",
     "text": [
      "    Name  Age  Gender\n",
      "0   John   25    Male\n",
      "1   Jane   30  Female\n",
      "2  Alice   35  Female\n",
      "3    Bob   40    Male\n"
     ]
    }
   ],
   "source": [
    "import pandas as pd\n",
    "\n",
    "# create Series for each column of the DataFrame\n",
    "name = pd.Series(['John', 'Jane', 'Alice', 'Bob'])\n",
    "age = pd.Series([25, 30, 35, 40])\n",
    "gender = pd.Series(['Male', 'Female', 'Female', 'Male'])\n",
    "\n",
    "# create a DataFrame using the Series\n",
    "df = pd.DataFrame({'Name': name, 'Age': age, 'Gender': gender})\n",
    "\n",
    "print(df)"
   ]
  },
  {
   "cell_type": "code",
   "execution_count": null,
   "metadata": {},
   "outputs": [],
   "source": []
  }
 ],
 "metadata": {
  "kernelspec": {
   "display_name": "Python 3",
   "language": "python",
   "name": "python3"
  },
  "language_info": {
   "codemirror_mode": {
    "name": "ipython",
    "version": 3
   },
   "file_extension": ".py",
   "mimetype": "text/x-python",
   "name": "python",
   "nbconvert_exporter": "python",
   "pygments_lexer": "ipython3",
   "version": "3.9.10"
  },
  "orig_nbformat": 4
 },
 "nbformat": 4,
 "nbformat_minor": 2
}
